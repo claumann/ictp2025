{
 "cells": [
  {
   "cell_type": "markdown",
   "metadata": {
    "jp-MarkdownHeadingCollapsed": true,
    "slideshow": {
     "slide_type": "slide"
    },
    "tags": []
   },
   "source": [
    "# Introduction to Scientific Python #\n",
    "\n",
    "ICTP Summer School on Quantum Dynamics of Matter, Light and Information\n",
    "\n",
    "Date: August 18, 2025\n",
    "\n",
    "Lecturer: Chris Laumann\n",
    "\n",
    "This short crash course draws heavily on a number of great resources from around the web. \n",
    "To really learn Python, it is best to spend a weekend and work through some of the many tutorials. \n",
    "Some good resources:\n",
    "\n",
    " - [The Python Tutorial](https://docs.python.org/3.13/tutorial/)\n",
    " - [Python Scientific Lecture Notes](http://scipy-lectures.github.io/index.html) \n",
    " - [A Crash Course in Python for Scientists](http://nbviewer.ipython.org/gist/rpmuller/5920182)\n",
    " - [NumPy: the absolute basics for beginners](https://numpy.org/doc/stable/user/absolute_beginners.html)\n",
    "  \n",
    "Web search is your friend. There's lots of documentation for Python and its many packages. \n",
    "I've included links to the main websites below but there's many other sources of information."
   ]
  },
  {
   "cell_type": "markdown",
   "metadata": {
    "slideshow": {
     "slide_type": "slide"
    }
   },
   "source": [
    "# Why Python? #\n",
    "\n",
    "### Simple, well-structured, general-purpose language\n",
    "  - Readability great for quality control and collaboration\n",
    "  - Code how you think: many books use python as pseudocode\n",
    "  \n",
    "### High-level \n",
    "  - Rapid development\n",
    "  - Do complicated things in few lines\n",
    "\n",
    "### Interactive \n",
    "  - Rapid development and exploration\n",
    "  - No need to compile, run, debug, revise, compile\n",
    "  - Data collection, generation, analysis and publication plotting in one place\n",
    "\n",
    "### Speed\n",
    "  - Usually plenty fast -- will discuss more\n",
    "  - Your development time is more important than CPU time\n",
    "  - Not as fast as C, C++, Fortran but these can be easily woven in where necessary\n",
    "\n",
    "### Vibrant community\n",
    "  - Great online documentation / help available\n",
    "  - Open source\n",
    "  \n",
    "### Rich scientific computing libraries\n",
    "  - Don't reinvent the wheel!\n"
   ]
  },
  {
   "cell_type": "markdown",
   "metadata": {
    "slideshow": {
     "slide_type": "slide"
    }
   },
   "source": [
    "# Scientific Python Key Components #\n",
    "\n",
    "The core pieces of the scientific Python platform are:\n",
    "\n",
    "**[Python](http://www.python.org)**, the language interpreter \n",
    "  - Many standard data types, libraries, etc\n",
    "  - Python 3 is the current version; use this\n",
    "\n",
    "**[Jupyter](http://www.jupyter.org)**: notebook based (in browser) interface\n",
    "  - Interactive manipulation of plots\n",
    "  - Easy to use basic parallelization\n",
    "  - Lots of useful extra bells and whistles for Python\n",
    "  \n",
    "**[Numpy](http://www.numpy.org)**, powerful numerical array objects, and routines to manipulate them. \n",
    "  - Work horse for scientific computing\n",
    "  - Basic linear algebra (np.linalg)\n",
    "  - Random numbers (np.random)\n",
    "  \n",
    "**[Scipy](http://www.scipy.org)**, high-level data processing routines. \n",
    "  - Signal processing (scipy.signal)\n",
    "  - Optimization (scipy.optimize)\n",
    "  - Special functions (scipy.special)\n",
    "  - Sparse matrices and linear algebra (scipy.sparse, scipy.linalg)\n",
    "\n",
    "**[Matplotlib](http://www.matplotlib.org)**, plotting and visualization\n",
    "  - 2-D and basic 3-D interactive visualization\n",
    "  - “Publication-ready” plots\n",
    "  - LaTeX labels/annotations automagically\n",
    "\n",
    "**[Pandas](https://pandas.pydata.org)**, data analysis/management\n",
    "  - data structures for relational data manipulation\n",
    "  - useful in observational/numerical analysis\n",
    "  - Won't discuss here\n",
    "\n",
    "**[Mayavi](http://code.enthought.com/projects/mayavi/)**, 3-D visualization\n",
    "  - For more sophisticated 3-D needs (won't discuss)"
   ]
  },
  {
   "cell_type": "markdown",
   "metadata": {
    "slideshow": {
     "slide_type": "slide"
    }
   },
   "source": [
    "# Jupyter Workflow #\n",
    "\n",
    "### Two primary workflows:\n",
    "\n",
    "1. Work in a Jupyter/IPython notebook. Write code in cells, analyze, plot, etc. Everything stored in **.ipynb** file.\n",
    "2. Write code in **.py** files using a text editor and run those within the IPython notebook or from the shell.\n",
    "\n",
    "We will stick to the first. \n",
    "\n",
    "While you are using a notebook, there is a **kernel** running which actually executes your commands and stores your variables, etc. If you quit/restart the kernel, all variables will be forgotten and you will need to re-execute the commands that set them up. This can be useful if you want to reset things. The input and output that is visible in the notebook is saved in the notebook file.\n",
    "\n",
    "*Note:* .py files are called **scripts** if they consist primarily of a sequence of commands to be run and **modules** if they consist primarily of function definitions for import into other scripts/notebooks. \n",
    "\n",
    "### Notebook Usage\n",
    "\n",
    "Two modes: editing and command mode.\n",
    "\n",
    "Press escape to go to command mode.\n",
    "Press return to go into editing mode on selected cell.\n",
    "\n",
    "In command mode:\n",
    "1. Press a or b to create a new cell above or below the current.\n",
    "2. Press m or y to convert the current cell to markdown or code.\n",
    "3. Press shift-enter to execute.\n",
    "4. Press d d to delete the current cell. (Careful!)\n",
    "\n",
    "In editing mode:\n",
    "1. Press tab for autocomplete\n",
    "2. Press shift-tab for help on current object\n",
    "3. Shift-enter to execute current cell\n",
    "\n",
    "Two types of cells:\n",
    "1. Markdown for notes (like this)\n",
    "2. Code for things to execute\n"
   ]
  },
  {
   "cell_type": "markdown",
   "metadata": {
    "slideshow": {
     "slide_type": "slide"
    }
   },
   "source": [
    "### Exercise ###\n",
    "\n",
    "Try editing this markdown block to make it more interesting."
   ]
  },
  {
   "cell_type": "markdown",
   "metadata": {},
   "source": [
    "### Exercise\n",
    "\n",
    "Execute the next block and then create a new block, type x. and press tab and shift-tab."
   ]
  },
  {
   "cell_type": "code",
   "execution_count": null,
   "metadata": {},
   "outputs": [],
   "source": [
    "x = 10"
   ]
  },
  {
   "cell_type": "markdown",
   "metadata": {},
   "source": [
    "### Exercise\n",
    "\n",
    "Run this stuff."
   ]
  },
  {
   "cell_type": "code",
   "execution_count": null,
   "metadata": {},
   "outputs": [],
   "source": [
    "print('Hello, world!')"
   ]
  },
  {
   "cell_type": "code",
   "execution_count": null,
   "metadata": {},
   "outputs": [],
   "source": [
    "\"Hello, world!\""
   ]
  },
  {
   "cell_type": "code",
   "execution_count": null,
   "metadata": {},
   "outputs": [],
   "source": [
    "2.5 * 3"
   ]
  },
  {
   "cell_type": "code",
   "execution_count": null,
   "metadata": {},
   "outputs": [],
   "source": [
    "3**3"
   ]
  },
  {
   "cell_type": "code",
   "execution_count": null,
   "metadata": {},
   "outputs": [],
   "source": [
    "3 + 3"
   ]
  },
  {
   "cell_type": "code",
   "execution_count": null,
   "metadata": {},
   "outputs": [],
   "source": [
    "\"ab\" + \"cd\""
   ]
  },
  {
   "cell_type": "code",
   "execution_count": null,
   "metadata": {},
   "outputs": [],
   "source": [
    "\"Hello\" == 'Hello'"
   ]
  },
  {
   "cell_type": "markdown",
   "metadata": {},
   "source": [
    "# Variables and Objects #\n",
    "\n",
    "Everything in memory in Python is an object. Every object has a type such as int (for integer), str (for strings) or ndarray (for numpy arrays). Variables can reference objects of any type and that type can change.\n",
    "\n",
    "The equals sign in programming does not mean 'is equal to' as in math. It means **'assign the object on the right to the variable on the left'**.\n"
   ]
  },
  {
   "cell_type": "code",
   "execution_count": null,
   "metadata": {},
   "outputs": [],
   "source": [
    "a = 3"
   ]
  },
  {
   "cell_type": "code",
   "execution_count": null,
   "metadata": {},
   "outputs": [],
   "source": [
    "a"
   ]
  },
  {
   "cell_type": "code",
   "execution_count": null,
   "metadata": {},
   "outputs": [],
   "source": [
    "type(a)"
   ]
  },
  {
   "cell_type": "code",
   "execution_count": null,
   "metadata": {},
   "outputs": [],
   "source": [
    "a+a"
   ]
  },
  {
   "cell_type": "code",
   "execution_count": null,
   "metadata": {},
   "outputs": [],
   "source": [
    "2+a"
   ]
  },
  {
   "cell_type": "code",
   "execution_count": null,
   "metadata": {},
   "outputs": [],
   "source": [
    "# Objects have properties and methods, accessible with a .\n",
    "# (press tab to list 'em)\n",
    "a.real"
   ]
  },
  {
   "cell_type": "code",
   "execution_count": null,
   "metadata": {},
   "outputs": [],
   "source": [
    "a = \"Hello, world!\""
   ]
  },
  {
   "cell_type": "code",
   "execution_count": null,
   "metadata": {},
   "outputs": [],
   "source": [
    "a"
   ]
  },
  {
   "cell_type": "code",
   "execution_count": null,
   "metadata": {},
   "outputs": [],
   "source": [
    "type(a)"
   ]
  },
  {
   "cell_type": "code",
   "execution_count": null,
   "metadata": {},
   "outputs": [],
   "source": [
    "a+a"
   ]
  },
  {
   "cell_type": "code",
   "execution_count": null,
   "metadata": {},
   "outputs": [],
   "source": [
    "2+a"
   ]
  },
  {
   "cell_type": "markdown",
   "metadata": {},
   "source": [
    "### Exercise\n",
    "\n",
    "Create a string of 25 \"x\"'s and assign it to a new variable b.\n",
    "(Hint: what might * do between strings and integers?)"
   ]
  },
  {
   "cell_type": "code",
   "execution_count": null,
   "metadata": {},
   "outputs": [],
   "source": []
  },
  {
   "cell_type": "markdown",
   "metadata": {},
   "source": [
    "### Overloading \n",
    "\n",
    "Operators and functions will try to execute no matter what type of objects are passed to them, but they may do different things depending on the type. + adds numbers and concatenates strings."
   ]
  },
  {
   "cell_type": "markdown",
   "metadata": {},
   "source": [
    "### Variables as References ###\n",
    "\n",
    "All variables are **references** to the objects they contain. Assignment does not make copies of objects."
   ]
  },
  {
   "cell_type": "code",
   "execution_count": null,
   "metadata": {},
   "outputs": [],
   "source": [
    "a = [1,2]\n",
    "a"
   ]
  },
  {
   "cell_type": "code",
   "execution_count": null,
   "metadata": {},
   "outputs": [],
   "source": [
    "b = a\n",
    "b"
   ]
  },
  {
   "cell_type": "code",
   "execution_count": null,
   "metadata": {},
   "outputs": [],
   "source": [
    "b[0] = 0\n",
    "b"
   ]
  },
  {
   "cell_type": "code",
   "execution_count": null,
   "metadata": {},
   "outputs": [],
   "source": [
    "a"
   ]
  },
  {
   "cell_type": "code",
   "execution_count": null,
   "metadata": {},
   "outputs": [],
   "source": [
    "b = [3,4]\n",
    "b"
   ]
  },
  {
   "cell_type": "code",
   "execution_count": null,
   "metadata": {},
   "outputs": [],
   "source": [
    "a"
   ]
  },
  {
   "cell_type": "markdown",
   "metadata": {},
   "source": [
    "# Types of Objects #\n",
    "\n",
    "## Basic Types ##\n",
    "\n",
    "1. **Numeric**\n",
    "  * Integer: -1, 0, 1, 2, ...\n",
    "  * Float: 1.2, 1e8\n",
    "  * Complex: 1j, 1. + 2.j\n",
    "  * Boolean: True, False\n",
    "2. Strings, \"hi\", Immutable\n",
    "3. Tuples, (2,7, \"hi\"), Immutable\n",
    "  - Ordered collection of other objects, represented by parentheses\n",
    "  - can't change after creation\n",
    "3. Lists, [0,1,2,\"hi\", 4], Mutable\n",
    "  - Ordered collection of other objects, represented by square brackets\n",
    "  - can add/remove/change elements after creation (*mutable*)\n",
    "4. Dictionaries, {'hi': 3, 4: 7, 'key': 'value'}\n",
    "5. Functions, def func()\n",
    "\n",
    "## Common Scientific Types ##\n",
    "\n",
    "6. NumPy arrays, array([1,2,3])\n",
    "  - Like lists but all entries have same type\n",
    "7. Sparse arrays, scipy.sparse\n",
    "8. Pandas DataFrames, high level 'table' a bit like an excel spreadsheet"
   ]
  },
  {
   "cell_type": "markdown",
   "metadata": {},
   "source": [
    "# Basic Types: Numeric #\n",
    "\n",
    "There are 4 numeric types: \n",
    "- int: positive or negative integer\n",
    "- float: a 'floating point' number is a real number like 3.1415 with a finite precision\n",
    "- complex: has real and imaginary part, each of which is a float\n",
    "- bool: two 'Boolean' values, True or False\n"
   ]
  },
  {
   "cell_type": "code",
   "execution_count": null,
   "metadata": {},
   "outputs": [],
   "source": [
    "a = 4\n",
    "type(a)"
   ]
  },
  {
   "cell_type": "code",
   "execution_count": null,
   "metadata": {},
   "outputs": [],
   "source": [
    "c = 4.\n",
    "type(c)"
   ]
  },
  {
   "cell_type": "code",
   "execution_count": null,
   "metadata": {},
   "outputs": [],
   "source": [
    "a = 1.5 + 0.1j\n",
    "type(a)"
   ]
  },
  {
   "cell_type": "code",
   "execution_count": null,
   "metadata": {},
   "outputs": [],
   "source": [
    "a.real"
   ]
  },
  {
   "cell_type": "code",
   "execution_count": null,
   "metadata": {},
   "outputs": [],
   "source": [
    "a.imag"
   ]
  },
  {
   "cell_type": "code",
   "execution_count": null,
   "metadata": {},
   "outputs": [],
   "source": [
    "flag = (3>4)\n",
    "flag"
   ]
  },
  {
   "cell_type": "code",
   "execution_count": null,
   "metadata": {},
   "outputs": [],
   "source": [
    "type(flag)"
   ]
  },
  {
   "cell_type": "code",
   "execution_count": null,
   "metadata": {},
   "outputs": [],
   "source": [
    "type(True)"
   ]
  },
  {
   "cell_type": "code",
   "execution_count": null,
   "metadata": {},
   "outputs": [],
   "source": [
    "# Type conversion\n",
    "float(1)"
   ]
  },
  {
   "cell_type": "markdown",
   "metadata": {},
   "source": [
    "### Careful with integer division!\n",
    "\n",
    "In Python, dividing integers promotes to a float. Use // for integer division."
   ]
  },
  {
   "cell_type": "code",
   "execution_count": null,
   "metadata": {},
   "outputs": [],
   "source": [
    "3/2"
   ]
  },
  {
   "cell_type": "code",
   "execution_count": null,
   "metadata": {},
   "outputs": [],
   "source": [
    "3/2."
   ]
  },
  {
   "cell_type": "markdown",
   "metadata": {},
   "source": [
    "***Force integer division:***"
   ]
  },
  {
   "cell_type": "code",
   "execution_count": null,
   "metadata": {},
   "outputs": [],
   "source": [
    "3//2"
   ]
  },
  {
   "cell_type": "markdown",
   "metadata": {},
   "source": [
    "# Basic Types: Strings #\n",
    "\n",
    "Strings are sequences of characters. They are **immutable**, which means you can't change a character in the middle of a string after you've created it. \n",
    "\n",
    "Literal strings can be written with single or double-quotes. Multi-line strings with triple quotes. 'Raw' strings are useful for embedding LaTeX because they treat backslashes differently."
   ]
  },
  {
   "cell_type": "code",
   "execution_count": null,
   "metadata": {},
   "outputs": [],
   "source": [
    "'Hello' == \"Hello\""
   ]
  },
  {
   "cell_type": "code",
   "execution_count": null,
   "metadata": {},
   "outputs": [],
   "source": [
    "a = \"\"\"This is a multiline string.\n",
    "Nifty, huh?\"\"\""
   ]
  },
  {
   "cell_type": "code",
   "execution_count": null,
   "metadata": {},
   "outputs": [],
   "source": [
    "a"
   ]
  },
  {
   "cell_type": "code",
   "execution_count": null,
   "metadata": {},
   "outputs": [],
   "source": [
    "print(\"\\nu\")"
   ]
  },
  {
   "cell_type": "code",
   "execution_count": null,
   "metadata": {},
   "outputs": [],
   "source": [
    "# the r\" makes this a raw string\n",
    "print(r\"\\nu\")"
   ]
  },
  {
   "cell_type": "code",
   "execution_count": null,
   "metadata": {},
   "outputs": [],
   "source": [
    "a = 3.1415"
   ]
  },
  {
   "cell_type": "code",
   "execution_count": null,
   "metadata": {},
   "outputs": [],
   "source": [
    "# Simple formatting (type convert to string)\n",
    "\"Blah \" + str(a)"
   ]
  },
  {
   "cell_type": "code",
   "execution_count": null,
   "metadata": {},
   "outputs": [],
   "source": [
    "# f-string formatting \n",
    "f\"Blah {a:1.2f}\""
   ]
  },
  {
   "cell_type": "code",
   "execution_count": null,
   "metadata": {},
   "outputs": [],
   "source": [
    "# .format approach\n",
    "\"Blah {:1.2f}, {}\".format(a, 'hi')"
   ]
  },
  {
   "cell_type": "markdown",
   "metadata": {},
   "source": [
    "# Basic Types: Lists #\n",
    "\n",
    "Python lists store **ordered** collections of arbitrary objects. They are efficient maps **from index to values**. Lists are represented by square brackets [ ]. \n",
    "\n",
    "Lists are **mutable**: their contents can be changed after they are created.\n",
    "\n",
    "It takes time O(1) to:\n",
    "1. Lookup an entry at given index.\n",
    "2. Change an item at a given index.\n",
    "3. Append or remove (pop) from the end of the list. \n",
    "\n",
    "It takes time O(N) to:\n",
    "1. Find items by value if you don't know where they are.\n",
    "2. Remove items from near the beginning of the list.\n",
    "\n",
    "You can also grab arbitrary **slices** from a list efficiently.\n",
    "\n",
    "Lists are 0-indexed. This means that the first item in the list is at position 0 and the\n",
    "last item is at position N-1 where N is the length of the list."
   ]
  },
  {
   "cell_type": "code",
   "execution_count": null,
   "metadata": {},
   "outputs": [],
   "source": [
    "days_of_the_week = [\"Sunday\",\"Monday\",\"Tuesday\",\n",
    "                    \"Wednesday\",\"Thursday\",\"Friday\"]"
   ]
  },
  {
   "cell_type": "code",
   "execution_count": null,
   "metadata": {},
   "outputs": [],
   "source": [
    "days_of_the_week[0]"
   ]
  },
  {
   "cell_type": "code",
   "execution_count": null,
   "metadata": {},
   "outputs": [],
   "source": [
    "# The slice from 2 to 5 (inclusive bottom, exclusive top)\n",
    "days_of_the_week[2:5]"
   ]
  },
  {
   "cell_type": "code",
   "execution_count": null,
   "metadata": {},
   "outputs": [],
   "source": [
    "days_of_the_week[-1]"
   ]
  },
  {
   "cell_type": "code",
   "execution_count": null,
   "metadata": {},
   "outputs": [],
   "source": [
    "# every other day\n",
    "days_of_the_week[0:-1:2]"
   ]
  },
  {
   "cell_type": "code",
   "execution_count": null,
   "metadata": {},
   "outputs": [],
   "source": [
    "# every other day (shorter)\n",
    "days_of_the_week[::2]"
   ]
  },
  {
   "cell_type": "code",
   "execution_count": null,
   "metadata": {},
   "outputs": [],
   "source": [
    "# Oops!\n",
    "days_of_the_week.append(\"Saturday\")"
   ]
  },
  {
   "cell_type": "code",
   "execution_count": null,
   "metadata": {},
   "outputs": [],
   "source": [
    "days_of_the_week[-1]"
   ]
  },
  {
   "cell_type": "code",
   "execution_count": null,
   "metadata": {},
   "outputs": [],
   "source": [
    "days_of_the_week[5] = \"Casual Friday\""
   ]
  },
  {
   "cell_type": "code",
   "execution_count": null,
   "metadata": {},
   "outputs": [],
   "source": [
    "days_of_the_week"
   ]
  },
  {
   "cell_type": "code",
   "execution_count": null,
   "metadata": {},
   "outputs": [],
   "source": [
    "# Get the length of the list\n",
    "len(days_of_the_week)"
   ]
  },
  {
   "cell_type": "code",
   "execution_count": null,
   "metadata": {},
   "outputs": [],
   "source": [
    "# Sort the list in place\n",
    "days_of_the_week.sort()"
   ]
  },
  {
   "cell_type": "code",
   "execution_count": null,
   "metadata": {},
   "outputs": [],
   "source": [
    "days_of_the_week"
   ]
  },
  {
   "cell_type": "markdown",
   "metadata": {},
   "source": [
    "**Remember tab completion** Every thing in Python (even the number 10) is an object. Objects can have methods which can be accessed by the notation a.method(). Typing a. and pressing tab allows you to see what methods an object a supports. Try it now with days_of_the_week:\n"
   ]
  },
  {
   "cell_type": "code",
   "execution_count": null,
   "metadata": {},
   "outputs": [],
   "source": [
    "days_of_the_week."
   ]
  },
  {
   "cell_type": "markdown",
   "metadata": {},
   "source": [
    "**Each item is arbitrary**: You can have lists of lists or lists of different types of objects."
   ]
  },
  {
   "cell_type": "code",
   "execution_count": null,
   "metadata": {},
   "outputs": [],
   "source": [
    "aList = [\"zero\", 1, \"two\", 3., 4.+0j]\n",
    "aList"
   ]
  },
  {
   "cell_type": "code",
   "execution_count": null,
   "metadata": {},
   "outputs": [],
   "source": [
    "listOfLists = [[1,2], [3,4], [5,6,7], 'Hi']"
   ]
  },
  {
   "cell_type": "code",
   "execution_count": null,
   "metadata": {},
   "outputs": [],
   "source": [
    "listOfLists[2][1]"
   ]
  },
  {
   "cell_type": "markdown",
   "metadata": {},
   "source": [
    "# Basic Types: Dictionaries #\n",
    "\n",
    "A dictionary is an efficient map **from keys to values**. They are represented by curly brackets {}. \n",
    "\n",
    "Dictionaries are **mutable** but all **keys must be immutable**. IE. keys can be strings, numbers, or tuples thereof but not lists or other dictionaries. Values can be anything.\n",
    "\n",
    "It is unordered but takes time O(1) to:\n",
    "1. Lookup a value from a key\n",
    "2. Add a key, value pair\n",
    "3. Remove a key, value pair\n",
    "\n",
    "It takes time O(N) to find an entry with a particular value.\n",
    "\n",
    "You can iterate through all the entries efficiently O(N)."
   ]
  },
  {
   "cell_type": "code",
   "execution_count": null,
   "metadata": {},
   "outputs": [],
   "source": [
    "tel = {'emmanuelle': 5752, 'sebastian': 5578}\n",
    "tel['francis'] = 5915"
   ]
  },
  {
   "cell_type": "code",
   "execution_count": null,
   "metadata": {},
   "outputs": [],
   "source": [
    "tel"
   ]
  },
  {
   "cell_type": "code",
   "execution_count": null,
   "metadata": {},
   "outputs": [],
   "source": [
    "tel['sebastian']"
   ]
  },
  {
   "cell_type": "code",
   "execution_count": null,
   "metadata": {},
   "outputs": [],
   "source": [
    "tel.keys()"
   ]
  },
  {
   "cell_type": "code",
   "execution_count": null,
   "metadata": {},
   "outputs": [],
   "source": [
    "tel.values()"
   ]
  },
  {
   "cell_type": "code",
   "execution_count": null,
   "metadata": {},
   "outputs": [],
   "source": [
    "len(tel)"
   ]
  },
  {
   "cell_type": "code",
   "execution_count": null,
   "metadata": {},
   "outputs": [],
   "source": [
    "'francis' in tel"
   ]
  },
  {
   "cell_type": "code",
   "execution_count": null,
   "metadata": {},
   "outputs": [],
   "source": [
    "del tel['francis']"
   ]
  },
  {
   "cell_type": "code",
   "execution_count": null,
   "metadata": {},
   "outputs": [],
   "source": [
    "tel"
   ]
  },
  {
   "cell_type": "markdown",
   "metadata": {},
   "source": [
    "# Basic Types: Tuples #\n",
    "\n",
    "A tuple is an **ordered** collection of objects. They are represented by round parantheses ().\n",
    "\n",
    "Tuples are almost like lists but they are **immutable**. This means that they cannot be changed once they are created. "
   ]
  },
  {
   "cell_type": "code",
   "execution_count": null,
   "metadata": {},
   "outputs": [],
   "source": [
    "t = (1,2,3,'Hi')\n",
    "t"
   ]
  },
  {
   "cell_type": "code",
   "execution_count": null,
   "metadata": {},
   "outputs": [],
   "source": [
    "# IMMUTABLE !\n",
    "t[0] = 2"
   ]
  },
  {
   "cell_type": "markdown",
   "metadata": {},
   "source": [
    "The empty tuple and length 1 tuples have special notation since parentheses can also represent grouping."
   ]
  },
  {
   "cell_type": "code",
   "execution_count": null,
   "metadata": {},
   "outputs": [],
   "source": [
    "emptyTuple = ()\n",
    "emptyTuple"
   ]
  },
  {
   "cell_type": "code",
   "execution_count": null,
   "metadata": {},
   "outputs": [],
   "source": [
    "lengthOne = ('hi',)\n",
    "lengthOne"
   ]
  },
  {
   "cell_type": "code",
   "execution_count": null,
   "metadata": {},
   "outputs": [],
   "source": [
    "notLengthOne = ('hi')\n",
    "notLengthOne"
   ]
  },
  {
   "cell_type": "code",
   "execution_count": null,
   "metadata": {},
   "outputs": [],
   "source": [
    "notLengthOne[0]"
   ]
  },
  {
   "cell_type": "markdown",
   "metadata": {},
   "source": [
    "# Control Flow #\n",
    "\n",
    "The flow of a program is the order in which the computer executes the statements in the code. Typically, this is in order from top to bottom. However, there are many cases where we want to change the flow in some way. For example, we might want to divide two numbers but only if the divisor is not zero. Or we might want to iterate: repeat a block of code many times for each value in some list. The commands which allow these are called control flow commands.\n",
    "\n",
    "**WARNING**: Python cares about **white space**! You must **INDENT CORRECTLY** because that's how Python knows when a block of code ends. \n",
    "\n",
    "Typically, people indent with 4 spaces per block but 2 spaces or tabs are okay. They must be consistent in any block."
   ]
  },
  {
   "cell_type": "markdown",
   "metadata": {
    "tags": []
   },
   "source": [
    "## If/elif/else"
   ]
  },
  {
   "cell_type": "code",
   "execution_count": null,
   "metadata": {},
   "outputs": [],
   "source": [
    "if 2>3:\n",
    "    print(\"Yep\")\n",
    "    print(\"It is\")\n",
    "\n",
    "elif 3>4:\n",
    "    print(\"Not this one either.\")\n",
    "    \n",
    "else:\n",
    "    print(\"Not\")\n",
    "    print(\"At all\")"
   ]
  },
  {
   "cell_type": "markdown",
   "metadata": {},
   "source": [
    "### Exercise\n",
    "\n",
    "Write a cell which checks that a is not zero and prints 1/a if it is. Then, create another cell to set a to different values and check your if cell works."
   ]
  },
  {
   "cell_type": "code",
   "execution_count": null,
   "metadata": {
    "ExecuteTime": {
     "end_time": "2019-02-06T20:15:22.171338Z",
     "start_time": "2019-02-06T20:15:22.166775Z"
    }
   },
   "outputs": [],
   "source": []
  },
  {
   "cell_type": "markdown",
   "metadata": {},
   "source": []
  },
  {
   "cell_type": "markdown",
   "metadata": {},
   "source": [
    "### For Loops ###\n",
    "\n",
    "For loops **iterate** through elements in a collection. This can be a list, tuple, dictionary, array or any other such collection. \n",
    "\n",
    "You should read a for loop like this:\n",
    "\n",
    "For each element in the collection, set the index variable to refer to the element and execute the **block** of code after the colon."
   ]
  },
  {
   "cell_type": "code",
   "execution_count": null,
   "metadata": {
    "ExecuteTime": {
     "end_time": "2019-02-06T21:00:40.775282Z",
     "start_time": "2019-02-06T21:00:40.771964Z"
    }
   },
   "outputs": [],
   "source": [
    "days_of_the_week = [\"Sun\",\"Mon\",\"Tues\",\n",
    "                    \"Wednes\",\"Thurs\",\"Fri\", \n",
    "                    \"Satur\"]"
   ]
  },
  {
   "cell_type": "code",
   "execution_count": null,
   "metadata": {
    "ExecuteTime": {
     "end_time": "2019-02-06T21:00:40.969913Z",
     "start_time": "2019-02-06T21:00:40.964104Z"
    }
   },
   "outputs": [],
   "source": [
    "for day in days_of_the_week:\n",
    "    print(\"Today is \" + day)"
   ]
  },
  {
   "cell_type": "markdown",
   "metadata": {},
   "source": [
    "### Exercise\n",
    "Write a for loop which adds the suffix 'day' to each of the days of the week in the list above and prints it."
   ]
  },
  {
   "cell_type": "code",
   "execution_count": null,
   "metadata": {
    "ExecuteTime": {
     "end_time": "2019-02-06T21:02:10.640686Z",
     "start_time": "2019-02-06T21:02:10.636804Z"
    }
   },
   "outputs": [],
   "source": []
  },
  {
   "cell_type": "markdown",
   "metadata": {},
   "source": [
    "### Exercise\n",
    "\n",
    "Write a loop which adds the suffix 'day' to each of the days of the week in the list above and prints it but only if the day begins with 'T'."
   ]
  },
  {
   "cell_type": "code",
   "execution_count": null,
   "metadata": {},
   "outputs": [],
   "source": []
  },
  {
   "cell_type": "markdown",
   "metadata": {},
   "source": [
    "As you often want to iterate over blocks of consecutive integers, the **range** function provides a convenient way to specify such a block."
   ]
  },
  {
   "cell_type": "code",
   "execution_count": null,
   "metadata": {},
   "outputs": [],
   "source": [
    "for i in range(5):\n",
    "    j = i**3\n",
    "    print(\"The cube of \" + str(i) + \" is \" + str(j))"
   ]
  },
  {
   "cell_type": "code",
   "execution_count": null,
   "metadata": {},
   "outputs": [],
   "source": [
    "for i in range(3,7):\n",
    "    j = i**3\n",
    "    print(\"The cube of \" + str(i) + \" is \" + str(j))    "
   ]
  },
  {
   "cell_type": "code",
   "execution_count": null,
   "metadata": {},
   "outputs": [],
   "source": [
    "range?"
   ]
  },
  {
   "cell_type": "markdown",
   "metadata": {},
   "source": [
    "Use **enumerate** to get index and value of iteration element."
   ]
  },
  {
   "cell_type": "code",
   "execution_count": null,
   "metadata": {},
   "outputs": [],
   "source": [
    "words = ('your', 'face', 'is', 'beautiful')\n",
    "\n",
    "for (i, word) in enumerate(words):\n",
    "    print(i, word)"
   ]
  },
  {
   "cell_type": "markdown",
   "metadata": {},
   "source": [
    "### Exercise\n",
    "\n",
    "Write a for loop which adds the suffix 'day' to each of the days of the week in the days_of_the_week list and **replaces it in the list**. This is tricky because you need to know the position in the list that you want to replace. Use enumerate."
   ]
  },
  {
   "cell_type": "code",
   "execution_count": null,
   "metadata": {
    "ExecuteTime": {
     "end_time": "2019-02-06T21:05:20.134642Z",
     "start_time": "2019-02-06T21:05:20.130445Z"
    }
   },
   "outputs": [],
   "source": []
  },
  {
   "cell_type": "code",
   "execution_count": null,
   "metadata": {
    "ExecuteTime": {
     "end_time": "2019-02-06T21:05:22.612413Z",
     "start_time": "2019-02-06T21:05:22.596283Z"
    }
   },
   "outputs": [],
   "source": [
    "days_of_the_week"
   ]
  },
  {
   "cell_type": "code",
   "execution_count": null,
   "metadata": {},
   "outputs": [],
   "source": [
    "for i in range(5):\n",
    "    j = i**3\n",
    "    print(\"The cube of \" + str(i) + \" is \" + str(j))"
   ]
  },
  {
   "cell_type": "code",
   "execution_count": null,
   "metadata": {},
   "outputs": [],
   "source": [
    "for day in days_of_the_week:\n",
    "    print(\"Today is \" + day)"
   ]
  },
  {
   "cell_type": "code",
   "execution_count": null,
   "metadata": {},
   "outputs": [],
   "source": [
    "for key in tel:\n",
    "    print(key + \"'s telephone number is \" + str(tel[key]))"
   ]
  },
  {
   "cell_type": "markdown",
   "metadata": {},
   "source": [
    "**Enumerate** to get index and value of iteration element"
   ]
  },
  {
   "cell_type": "code",
   "execution_count": null,
   "metadata": {},
   "outputs": [],
   "source": [
    "words = ('your', 'face', 'is', 'beautiful')\n",
    "\n",
    "for (i, word) in enumerate(words):\n",
    "    print(i, word)"
   ]
  },
  {
   "cell_type": "markdown",
   "metadata": {},
   "source": [
    "## While Loops\n",
    "\n",
    "Repeats a block of code while a condition holds true. This is more bug prone than iterating so usually best to use for."
   ]
  },
  {
   "cell_type": "code",
   "execution_count": null,
   "metadata": {},
   "outputs": [],
   "source": [
    "x = 5\n",
    "\n",
    "while x > 0:\n",
    "    print(\"Bark \" + str(x))\n",
    "    x -= 1"
   ]
  },
  {
   "cell_type": "markdown",
   "metadata": {},
   "source": [
    "# Functions #\n",
    "\n",
    "Any code that you call multiple times with different values should be wrapped up in a function. For example:"
   ]
  },
  {
   "cell_type": "code",
   "execution_count": null,
   "metadata": {},
   "outputs": [],
   "source": [
    "def square(x):\n",
    "    \"\"\"Return the square of x.\"\"\"\n",
    "    return x*x"
   ]
  },
  {
   "cell_type": "code",
   "execution_count": null,
   "metadata": {},
   "outputs": [],
   "source": [
    "square?"
   ]
  },
  {
   "cell_type": "code",
   "execution_count": null,
   "metadata": {},
   "outputs": [],
   "source": [
    "square(9)"
   ]
  },
  {
   "cell_type": "markdown",
   "metadata": {},
   "source": [
    "### Exercise\n",
    "\n",
    "Write a function squareIfEven(x) which returns x if x is odd and x squared if x is even. Test your function works by calling it on different values."
   ]
  },
  {
   "cell_type": "code",
   "execution_count": null,
   "metadata": {},
   "outputs": [],
   "source": []
  },
  {
   "cell_type": "code",
   "execution_count": null,
   "metadata": {},
   "outputs": [],
   "source": []
  },
  {
   "cell_type": "markdown",
   "metadata": {},
   "source": [
    "### Functions are Objects ###\n",
    "\n",
    "Functions are just like any object in Python:"
   ]
  },
  {
   "cell_type": "code",
   "execution_count": null,
   "metadata": {},
   "outputs": [],
   "source": [
    "type(square)"
   ]
  },
  {
   "cell_type": "markdown",
   "metadata": {},
   "source": [
    "Make another variable refer to the same function:"
   ]
  },
  {
   "cell_type": "code",
   "execution_count": null,
   "metadata": {},
   "outputs": [],
   "source": [
    "a = square"
   ]
  },
  {
   "cell_type": "code",
   "execution_count": null,
   "metadata": {},
   "outputs": [],
   "source": [
    "a(5)"
   ]
  },
  {
   "cell_type": "markdown",
   "metadata": {},
   "source": [
    "A function being passed to another function."
   ]
  },
  {
   "cell_type": "code",
   "execution_count": null,
   "metadata": {},
   "outputs": [],
   "source": [
    "def test():\n",
    "    print(\"In Test!\")\n",
    "    return\n",
    "\n",
    "def callIt(fun):\n",
    "    print(\"In callIt!\")\n",
    "    fun()\n",
    "    return"
   ]
  },
  {
   "cell_type": "code",
   "execution_count": null,
   "metadata": {},
   "outputs": [],
   "source": [
    "callIt(test)"
   ]
  },
  {
   "cell_type": "markdown",
   "metadata": {},
   "source": [
    "## Recursion\n",
    "\n",
    "A function is called recursive if it depends on calling itself for a smaller argument. A classic example of a recursive definition is given by the Fibonacci sequence:\n",
    "\\begin{align}\n",
    "    F_n &= F_{n-1} + F_{n-2} \\\\\n",
    "    F_0 &= F_1 = 1\n",
    "\\end{align}\n",
    "The first few of the Fibonacci numbers are $1,1,2,3,5,8,11,\\cdots$. For more information about the Fibonacci numbers, check out the Sloan [Online Encyclopedia of Integer Sequences](http://oeis.org), which is an amazing resource.\n"
   ]
  },
  {
   "cell_type": "markdown",
   "metadata": {},
   "source": [
    "### Exercise\n",
    "\n",
    "Complete the implementation of a recursive function to compute the $n$'th Fibonacci number and compute the first few."
   ]
  },
  {
   "cell_type": "code",
   "execution_count": null,
   "metadata": {},
   "outputs": [],
   "source": [
    "def fibonacci(n):\n",
    "    \"\"\"Return the n'th fibonacci number.\"\"\"\n",
    "    \n",
    "    # base case -- always implement this first\n",
    "    if n == 0 or n == 1:\n",
    "        return # PUT SOMETHING HERE\n",
    "\n",
    "    # recursive case\n",
    "    fibn = # PUT SOMETHING HERE\n",
    "    \n",
    "    return fibn"
   ]
  },
  {
   "cell_type": "markdown",
   "metadata": {},
   "source": []
  },
  {
   "cell_type": "markdown",
   "metadata": {},
   "source": [
    "### Exercise\n",
    "\n",
    "The naive recursive implementation of fibonacci scales very badly. That is, it uses a lot of operations (how many calls to fibonacci?) to evaluate the $n$'th number. \n",
    "\n",
    "A better algorithm should be able to compute the $n$'th number using $O(n)$ operations, just like we could using a piece of a paper and a pencil to start writing the sequence in order:\n",
    "\n",
    "    1 + 1 = 2\n",
    "    1 + 2 = 3\n",
    "    2 + 3 = 5\n",
    "    ...\n",
    "\n",
    "Can you write a function to compute the $n$'th Fibonacci number using only $O(n)$ operations?"
   ]
  },
  {
   "cell_type": "code",
   "execution_count": null,
   "metadata": {},
   "outputs": [],
   "source": [
    "def fibonacci_fast(n):\n",
    "    \"\"\"Return the n'th fibonacci number.\"\"\"\n",
    "    \n",
    "    # DO SOMETHING\n",
    "    \n",
    "    return fibn"
   ]
  },
  {
   "cell_type": "code",
   "execution_count": null,
   "metadata": {},
   "outputs": [],
   "source": []
  }
 ],
 "metadata": {
  "kernelspec": {
   "display_name": ".venv",
   "language": "python",
   "name": "python3"
  },
  "language_info": {
   "codemirror_mode": {
    "name": "ipython",
    "version": 3
   },
   "file_extension": ".py",
   "mimetype": "text/x-python",
   "name": "python",
   "nbconvert_exporter": "python",
   "pygments_lexer": "ipython3",
   "version": "3.13.5"
  }
 },
 "nbformat": 4,
 "nbformat_minor": 4
}
