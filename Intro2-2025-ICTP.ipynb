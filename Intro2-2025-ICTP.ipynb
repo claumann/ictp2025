{
 "cells": [
  {
   "cell_type": "markdown",
   "metadata": {},
   "source": [
    "# Introduction to Scientific Python 2 #\n",
    "\n",
    "ICTP Summer School on Quantum Dynamics of Matter, Light and Information\n",
    "\n",
    "Date: August 19, 2025\n",
    "\n",
    "Lecturer: Chris Laumann\n",
    "\n",
    "### Importing the Scientific Environment ###\n",
    "\n",
    "The recommended way to use the basic scientific libraries (numpy, scipy) and plotting tools (matplotlib) in jupyter is to execute the following commands at the beginning of your notebook:"
   ]
  },
  {
   "cell_type": "code",
   "execution_count": null,
   "metadata": {},
   "outputs": [],
   "source": [
    "%matplotlib inline\n",
    "\n",
    "import numpy as np\n",
    "import matplotlib.pyplot as plt\n",
    "import scipy\n",
    "\n",
    "# this turns on the latex backend for rendering labels in figures\n",
    "# Makes them look prettier for publication\n",
    "plt.rcParams.update({\n",
    "  \"text.usetex\": True,\n",
    "})"
   ]
  },
  {
   "cell_type": "markdown",
   "metadata": {},
   "source": [
    "Commands beginning with % our Jupyter 'magic' commands. %matplotlib sets up the matplotlib backend to plot into the notebook interactively -- it has to be done with a magic command because the jupyter notebook also needs to be setup to handle those interactive plots. \n",
    "\n",
    "The next two commands import the module numpy and the submodule pyplot of matplotlib into our notebook and give them shorter, easier to type, names (np and plt). "
   ]
  },
  {
   "cell_type": "markdown",
   "metadata": {},
   "source": [
    "For exploratory plotting and analysis, it's often convenient to also do the following:"
   ]
  },
  {
   "cell_type": "code",
   "execution_count": null,
   "metadata": {},
   "outputs": [],
   "source": [
    "from numpy import *\n",
    "from matplotlib.pylab import *"
   ]
  },
  {
   "cell_type": "markdown",
   "metadata": {},
   "source": [
    "This is considered *bad practice* because it imports all kinds of stuff into your notebook that you don't need and can lead to strange behavior. \n",
    "\n",
    "However, we'll do it for now."
   ]
  },
  {
   "cell_type": "markdown",
   "metadata": {},
   "source": [
    "# Numpy Arrays #\n",
    "\n",
    "Numpy arrays store **multidimensional arrays** of objects of a fixed type. The type of an array is a **dtype**, which is a more refined typing system than Python provides. They are efficient maps **from indices (i,j) to values**. They have **minimal memory overhead**.\n",
    "\n",
    "Arrays are **mutable**: their contents can be changed after they are created. However, their size and dtype, once created cannot be efficiently changed (requires a copy).\n",
    "\n",
    "Arrays are good for:\n",
    "1. Representing matrices and vectors (**linear algebra**)\n",
    "2. Storing grids of numbers (**plotting, numerical analysis**)\n",
    "3. Storing data series (**data analysis**)\n",
    "4. Getting/changing slices (regular subarrays)\n",
    "\n",
    "Arrays are not good for:\n",
    "1. Applications that require growing/shrinking the size.\n",
    "2. Heterogenous objects.\n",
    "3. Non-rectangular data.\n",
    "\n",
    "Arrays are 0-indexed."
   ]
  },
  {
   "cell_type": "code",
   "execution_count": null,
   "metadata": {},
   "outputs": [],
   "source": [
    "# A vector is an array with 1 index\n",
    "a = np.array([1/np.sqrt(2), 0, 1/np.sqrt(2)])\n",
    "a"
   ]
  },
  {
   "cell_type": "code",
   "execution_count": null,
   "metadata": {},
   "outputs": [],
   "source": [
    "a.shape"
   ]
  },
  {
   "cell_type": "code",
   "execution_count": null,
   "metadata": {},
   "outputs": [],
   "source": [
    "a.dtype"
   ]
  },
  {
   "cell_type": "code",
   "execution_count": null,
   "metadata": {},
   "outputs": [],
   "source": [
    "a.size"
   ]
  },
  {
   "cell_type": "code",
   "execution_count": null,
   "metadata": {},
   "outputs": [],
   "source": [
    "# We access the elements using [ ]\n",
    "a[0]"
   ]
  },
  {
   "cell_type": "code",
   "execution_count": null,
   "metadata": {},
   "outputs": [],
   "source": [
    "a[0] = a[0]*2"
   ]
  },
  {
   "cell_type": "code",
   "execution_count": null,
   "metadata": {},
   "outputs": [],
   "source": [
    "a"
   ]
  },
  {
   "cell_type": "markdown",
   "metadata": {},
   "source": [
    "We create a 2D array (that is a matrix) by passing the array() function a list of lists of numbers in the right shape."
   ]
  },
  {
   "cell_type": "code",
   "execution_count": null,
   "metadata": {},
   "outputs": [],
   "source": [
    "# A matrix is an array with 2 indices\n",
    "B = np.array( [[ 1, 0, 0],\n",
    "              [ 0, 0, 1],\n",
    "              [ 0, 1, 0]] )\n",
    "B"
   ]
  },
  {
   "cell_type": "code",
   "execution_count": null,
   "metadata": {},
   "outputs": [],
   "source": [
    "B.shape"
   ]
  },
  {
   "cell_type": "code",
   "execution_count": null,
   "metadata": {},
   "outputs": [],
   "source": [
    "B.dtype"
   ]
  },
  {
   "cell_type": "code",
   "execution_count": null,
   "metadata": {},
   "outputs": [],
   "source": [
    "B.size"
   ]
  },
  {
   "cell_type": "code",
   "execution_count": null,
   "metadata": {},
   "outputs": [],
   "source": [
    "B[0,0]"
   ]
  },
  {
   "cell_type": "markdown",
   "metadata": {},
   "source": [
    "### Exercise ###\n",
    "\n",
    "Change the last row of B to have a 2 instead of 1 in the middle position."
   ]
  },
  {
   "cell_type": "code",
   "execution_count": null,
   "metadata": {},
   "outputs": [],
   "source": []
  },
  {
   "cell_type": "markdown",
   "metadata": {},
   "source": [
    "**Warning!** There is also a type called 'matrix' instead of 'array' in numpy. This is specially for 2-index arrays but is being removed from Numpy over the next two years because it leads to bugs. **Never use matrix(), only array()**"
   ]
  },
  {
   "cell_type": "markdown",
   "metadata": {},
   "source": [
    "## Basic Linear Algebra ##\n",
    "\n",
    "There are two basic kinds of multiplication of arrays in Python:\n",
    "\n",
    "1. **Element-wise multiplication:** a*b multiplies arrays of the same shape element by element.\n",
    "2. **Dot product:** a@b forms a dot product of two vectors or a matrix product of two rectangular matrices. \n",
    "\n",
    "Mathematically, for vectors,\n",
    "\n",
    "$$ a@b = \\sum_i a[i] b[i] $$\n",
    "\n",
    "while for 2D arrays (matrices),\n",
    "\n",
    "$$ A@B[i,j] = \\sum_k A[i,k] B[k,j] $$"
   ]
  },
  {
   "cell_type": "code",
   "execution_count": null,
   "metadata": {},
   "outputs": [],
   "source": [
    "a = np.array([1,  1]) / np.sqrt(2)\n",
    "b = np.array([1, -1]) / np.sqrt(2)"
   ]
  },
  {
   "cell_type": "code",
   "execution_count": null,
   "metadata": {},
   "outputs": [],
   "source": [
    "a"
   ]
  },
  {
   "cell_type": "code",
   "execution_count": null,
   "metadata": {},
   "outputs": [],
   "source": [
    "b"
   ]
  },
  {
   "cell_type": "code",
   "execution_count": null,
   "metadata": {},
   "outputs": [],
   "source": [
    "a*a"
   ]
  },
  {
   "cell_type": "code",
   "execution_count": null,
   "metadata": {},
   "outputs": [],
   "source": [
    "a@a"
   ]
  },
  {
   "cell_type": "code",
   "execution_count": null,
   "metadata": {},
   "outputs": [],
   "source": [
    "# Compute the length of a\n",
    "np.linalg.norm(a)"
   ]
  },
  {
   "cell_type": "code",
   "execution_count": null,
   "metadata": {},
   "outputs": [],
   "source": [
    "np.sqrt(a@a)"
   ]
  },
  {
   "cell_type": "code",
   "execution_count": null,
   "metadata": {},
   "outputs": [],
   "source": [
    "a*b"
   ]
  },
  {
   "cell_type": "code",
   "execution_count": null,
   "metadata": {},
   "outputs": [],
   "source": [
    "a@b"
   ]
  },
  {
   "cell_type": "markdown",
   "metadata": {},
   "source": [
    "There are many, many more functions for doing linear algebra operations numerically provided by numpy and scipy. We will use some of them as we go."
   ]
  },
  {
   "cell_type": "markdown",
   "metadata": {},
   "source": [
    "# Basic Plotting #\n",
    "\n",
    "The second primary use of numpy array's is to hold grids of numbers for analyzing and plotting. In this case, we consider a long 1D array with length N as representing the values of the x and y axis of a plot, for example. \n",
    "\n",
    "Let's plot a sine wave:"
   ]
  },
  {
   "cell_type": "code",
   "execution_count": null,
   "metadata": {},
   "outputs": [],
   "source": [
    "# create an equally spaced array of 100 numbers \n",
    "# from -2pi to 2pi \n",
    "x = np.linspace(-2*np.pi, 2*np.pi, 100)\n",
    "\n",
    "# evaluate a function at each point in x and create a \n",
    "# corresponding array\n",
    "y = 0.5*np.sin(x)\n",
    "\n",
    "plt.figure()\n",
    "plt.plot(x,y)\n",
    "plt.grid()\n",
    "plt.xlabel(r'$x$')\n",
    "plt.ylabel(r'$0.5 \\sin(x)$')"
   ]
  },
  {
   "cell_type": "markdown",
   "metadata": {},
   "source": [
    "The call to sin(x) is a 'ufunc', which automatically acts element-by-element on whatever shape array it is passed. Thus the one line\n",
    "    \n",
    "    y = 0.5 * sin(x)\n",
    "    \n",
    "is equivalent to "
   ]
  },
  {
   "cell_type": "code",
   "execution_count": null,
   "metadata": {
    "ExecuteTime": {
     "end_time": "2019-02-07T15:33:24.662705Z",
     "start_time": "2019-02-07T15:33:24.658074Z"
    }
   },
   "outputs": [],
   "source": [
    "y = np.zeros((len(x),))\n",
    "for i in range(len(x)):\n",
    "    y[i] = 0.5 * np.sin( x[i] )"
   ]
  },
  {
   "cell_type": "markdown",
   "metadata": {},
   "source": [
    "but much faster."
   ]
  },
  {
   "cell_type": "markdown",
   "metadata": {},
   "source": [
    "2. Matplotlib supports $\\LaTeX$ style mathematical expressions in any text that it renders -- just enclose in \\\\$-signs. We use a raw (r\"..\") string so that the backslashes are passed onto the $\\LaTeX$ interpreter intact rather than being interpreted as special characters.\n",
    "3. The 'notebook' backend (which we turned on at the beginning of the notebook) provides basic interactive plotting inside the notebook. There are other backends which provide somewhat better interaction if you setup jupyter on your local computer."
   ]
  },
  {
   "cell_type": "markdown",
   "metadata": {},
   "source": [
    "# Some Common Arrays #"
   ]
  },
  {
   "cell_type": "code",
   "execution_count": null,
   "metadata": {},
   "outputs": [],
   "source": [
    "np.arange(2,10,2)"
   ]
  },
  {
   "cell_type": "code",
   "execution_count": null,
   "metadata": {},
   "outputs": [],
   "source": [
    "# compact notation for the previous\n",
    "# r_ creates a *row* vector with the contents of the slice \n",
    "# notice the [ ] rather than ( )\n",
    "np.r_[2:10:2]"
   ]
  },
  {
   "cell_type": "code",
   "execution_count": null,
   "metadata": {},
   "outputs": [],
   "source": [
    "np.linspace(2,10,5)"
   ]
  },
  {
   "cell_type": "code",
   "execution_count": null,
   "metadata": {},
   "outputs": [],
   "source": [
    "# compact notation for the previous\n",
    "np.r_[2:10:5j]"
   ]
  },
  {
   "cell_type": "code",
   "execution_count": null,
   "metadata": {},
   "outputs": [],
   "source": [
    "np.ones((2,2))"
   ]
  },
  {
   "cell_type": "code",
   "execution_count": null,
   "metadata": {},
   "outputs": [],
   "source": [
    "np.zeros((3,1))"
   ]
  },
  {
   "cell_type": "code",
   "execution_count": null,
   "metadata": {},
   "outputs": [],
   "source": [
    "np.eye(3)"
   ]
  },
  {
   "cell_type": "code",
   "execution_count": null,
   "metadata": {},
   "outputs": [],
   "source": [
    "np.diag([1,2,3])"
   ]
  },
  {
   "cell_type": "code",
   "execution_count": null,
   "metadata": {},
   "outputs": [],
   "source": [
    "np.random.rand(2,2)"
   ]
  },
  {
   "cell_type": "markdown",
   "metadata": {},
   "source": [
    "## Speed \n",
    "\n",
    "Often, you need to do the same computation for every element in an array. In this case, it is generally both much faster and more compact to 'vectorize' the code using element-wise operations rather than explicit for loops."
   ]
  },
  {
   "cell_type": "code",
   "execution_count": null,
   "metadata": {
    "ExecuteTime": {
     "end_time": "2019-02-07T15:34:03.479607Z",
     "start_time": "2019-02-07T15:33:50.819927Z"
    }
   },
   "outputs": [],
   "source": [
    "%%timeit\n",
    "out = np.zeros(1000)\n",
    "for i in range(1000):\n",
    "    out[i] = i*i\n"
   ]
  },
  {
   "cell_type": "code",
   "execution_count": null,
   "metadata": {
    "ExecuteTime": {
     "end_time": "2019-02-07T15:34:05.300178Z",
     "start_time": "2019-02-07T15:34:03.483832Z"
    }
   },
   "outputs": [],
   "source": [
    "%%timeit\n",
    "a = np.arange(1000)\n",
    "out = a*a"
   ]
  },
  {
   "cell_type": "markdown",
   "metadata": {},
   "source": [
    "# Array DTypes #\n",
    "\n",
    "Numpy has its own set of data types for the elements of arrays. These **dtypes** are more specific than 'int' or 'str' so that you can control the number of bytes used. \n",
    "\n",
    "1. Integers: int16 ('i2'), int32 ('i4'), int64 ('i8'), ...\n",
    "2. Unsigned: uint32 ('u4'), uint64 ('u8'), ...\n",
    "3. Float: float16 ('f2'), float32 ('f4'), float64 ('f8'), ...\n",
    "4. Boolean: bool\n",
    "5. Fixed Length Strings: 'S1', 'S2', ...\n"
   ]
  },
  {
   "cell_type": "code",
   "execution_count": null,
   "metadata": {},
   "outputs": [],
   "source": [
    "np.array([1,0]).dtype"
   ]
  },
  {
   "cell_type": "code",
   "execution_count": null,
   "metadata": {},
   "outputs": [],
   "source": [
    "np.array([1.,0]).dtype"
   ]
  },
  {
   "cell_type": "code",
   "execution_count": null,
   "metadata": {},
   "outputs": [],
   "source": [
    "np.float32"
   ]
  },
  {
   "cell_type": "code",
   "execution_count": null,
   "metadata": {},
   "outputs": [],
   "source": [
    "np.dtype('i4')"
   ]
  },
  {
   "cell_type": "markdown",
   "metadata": {},
   "source": [
    "# Basic Operations and Visualization"
   ]
  },
  {
   "cell_type": "code",
   "execution_count": null,
   "metadata": {},
   "outputs": [],
   "source": [
    "x = np.linspace(-np.pi, np.pi, 100)\n",
    "y1 = np.sin(x)\n",
    "y2 = np.exp(x/np.pi)"
   ]
  },
  {
   "cell_type": "code",
   "execution_count": null,
   "metadata": {},
   "outputs": [],
   "source": [
    "plt.figure()\n",
    "plt.plot(x,y1, label=r'$\\sin(x)$')\n",
    "plt.plot(x,y2, label=r'$e^{x/\\pi}$')\n",
    "\n",
    "plt.xlabel(r'$x$')\n",
    "plt.ylabel(r'$y$')\n",
    "\n",
    "plt.legend()"
   ]
  },
  {
   "cell_type": "markdown",
   "metadata": {},
   "source": [
    "### Exercise\n",
    "\n",
    "Move the legend to the lower right in the above plot."
   ]
  },
  {
   "cell_type": "markdown",
   "metadata": {},
   "source": [
    "## 2-D Visualization"
   ]
  },
  {
   "cell_type": "code",
   "execution_count": null,
   "metadata": {},
   "outputs": [],
   "source": [
    "img = np.random.rand(30,30)\n",
    "\n",
    "plt.figure()\n",
    "plt.imshow(img, cmap=plt.cm.hot)\n",
    "plt.colorbar()"
   ]
  },
  {
   "cell_type": "markdown",
   "metadata": {},
   "source": [
    "# Slicing #\n",
    "\n",
    "One of most important features of arrays is their sophisticated slicing ability.\n",
    "\n",
    "A basic slice looks like: a[start:stop:step] and returns the subarray starting at position start (included), going to position stop (excluded) with steps of size step. "
   ]
  },
  {
   "cell_type": "code",
   "execution_count": null,
   "metadata": {},
   "outputs": [],
   "source": [
    "a = np.arange(10)\n",
    "a"
   ]
  },
  {
   "cell_type": "code",
   "execution_count": null,
   "metadata": {},
   "outputs": [],
   "source": [
    "a[3:5]  # start:stop defaults to stepsize = 1"
   ]
  },
  {
   "cell_type": "code",
   "execution_count": null,
   "metadata": {},
   "outputs": [],
   "source": [
    "a[:5]   # if you leave start empty, it defaults to the beginning"
   ]
  },
  {
   "cell_type": "code",
   "execution_count": null,
   "metadata": {},
   "outputs": [],
   "source": [
    "a[3:-2]      # negative indices count from the end"
   ]
  },
  {
   "cell_type": "code",
   "execution_count": null,
   "metadata": {},
   "outputs": [],
   "source": [
    "a[3:8:2]     # start:stop:step"
   ]
  },
  {
   "cell_type": "code",
   "execution_count": null,
   "metadata": {},
   "outputs": [],
   "source": [
    "a[:]       "
   ]
  },
  {
   "cell_type": "code",
   "execution_count": null,
   "metadata": {
    "ExecuteTime": {
     "end_time": "2019-02-07T01:07:41.639943Z",
     "start_time": "2019-02-07T01:07:41.634639Z"
    }
   },
   "outputs": [],
   "source": [
    "a[::-1]"
   ]
  },
  {
   "cell_type": "markdown",
   "metadata": {
    "ExecuteTime": {
     "end_time": "2019-02-07T01:07:36.921842Z",
     "start_time": "2019-02-07T01:07:36.915905Z"
    }
   },
   "source": [
    "The basic slice is a **view** into the original array: you can  modify the returned elements and it will change the elements in the original array. No copies are made."
   ]
  },
  {
   "cell_type": "code",
   "execution_count": null,
   "metadata": {},
   "outputs": [],
   "source": [
    "a"
   ]
  },
  {
   "cell_type": "code",
   "execution_count": null,
   "metadata": {},
   "outputs": [],
   "source": [
    "a[::2] = -1"
   ]
  },
  {
   "cell_type": "code",
   "execution_count": null,
   "metadata": {},
   "outputs": [],
   "source": [
    "a"
   ]
  },
  {
   "cell_type": "markdown",
   "metadata": {},
   "source": [
    "## 2-D Example"
   ]
  },
  {
   "cell_type": "code",
   "execution_count": null,
   "metadata": {},
   "outputs": [],
   "source": [
    "a = np.arange(20).reshape(4,5)\n",
    "a"
   ]
  },
  {
   "cell_type": "code",
   "execution_count": null,
   "metadata": {},
   "outputs": [],
   "source": [
    "a[0:4, 3:5]  # all rows, last two columns"
   ]
  },
  {
   "cell_type": "code",
   "execution_count": null,
   "metadata": {},
   "outputs": [],
   "source": [
    "a[:4, 3:5]   # same, beginning defaults to 0"
   ]
  },
  {
   "cell_type": "code",
   "execution_count": null,
   "metadata": {},
   "outputs": [],
   "source": [
    "a[:, 3:]     # same, end defaults to size of axis"
   ]
  },
  {
   "cell_type": "code",
   "execution_count": null,
   "metadata": {},
   "outputs": [],
   "source": [
    "a[::2, :3]   # every other row (step = 2), first three columns"
   ]
  },
  {
   "cell_type": "code",
   "execution_count": null,
   "metadata": {},
   "outputs": [],
   "source": [
    "a[::-1,:]      # Reverse rows (step = -1)"
   ]
  },
  {
   "cell_type": "code",
   "execution_count": null,
   "metadata": {},
   "outputs": [],
   "source": [
    "a[::-1]      # same"
   ]
  },
  {
   "cell_type": "code",
   "execution_count": null,
   "metadata": {},
   "outputs": [],
   "source": [
    "a[::2,:3] *= 20  # in place scale up every other row, first three cols\n",
    "a"
   ]
  },
  {
   "cell_type": "code",
   "execution_count": null,
   "metadata": {},
   "outputs": [],
   "source": [
    "a[1,:] = 0 # zero out first row\n",
    "a"
   ]
  },
  {
   "cell_type": "markdown",
   "metadata": {},
   "source": [
    "# Fancy Indexing\n",
    "\n",
    "If you use a list or array of integers as an index to an array, it will make a **copy** of the relevant entries. This allows you to select subarrays which aren't regularly spaced like basic slices. Since the returns values are a copy, you can't modify them in place."
   ]
  },
  {
   "cell_type": "code",
   "execution_count": null,
   "metadata": {
    "ExecuteTime": {
     "end_time": "2019-02-07T01:15:17.880008Z",
     "start_time": "2019-02-07T01:15:17.873384Z"
    }
   },
   "outputs": [],
   "source": [
    "a = np.arange(1,17,3)\n",
    "a"
   ]
  },
  {
   "cell_type": "code",
   "execution_count": null,
   "metadata": {
    "ExecuteTime": {
     "end_time": "2019-02-07T01:15:42.485643Z",
     "start_time": "2019-02-07T01:15:42.479755Z"
    }
   },
   "outputs": [],
   "source": [
    "a[[2,0,3,2]]"
   ]
  },
  {
   "cell_type": "code",
   "execution_count": null,
   "metadata": {},
   "outputs": [],
   "source": [
    "# careful -- tuples aren't the same as lists\n",
    "a[(2,0,3,2)]"
   ]
  },
  {
   "cell_type": "markdown",
   "metadata": {},
   "source": [
    "2D fancy indexing is by index:"
   ]
  },
  {
   "cell_type": "code",
   "execution_count": null,
   "metadata": {},
   "outputs": [],
   "source": [
    "a = np.arange(16).reshape(4,4)\n",
    "a"
   ]
  },
  {
   "cell_type": "code",
   "execution_count": null,
   "metadata": {},
   "outputs": [],
   "source": [
    "a[(0,1,2),(2,3,0)] "
   ]
  },
  {
   "cell_type": "code",
   "execution_count": null,
   "metadata": {},
   "outputs": [],
   "source": [
    "a[(0,3),:]"
   ]
  },
  {
   "cell_type": "markdown",
   "metadata": {},
   "source": [
    "# Masks\n",
    "\n",
    "A mask is a boolean array of the same shape as another array a. By using it to 'index' into a, you pull out a flattened array of all of the entries where the mask is True."
   ]
  },
  {
   "cell_type": "code",
   "execution_count": null,
   "metadata": {},
   "outputs": [],
   "source": [
    "mask = a % 2 == 0\n",
    "mask"
   ]
  },
  {
   "cell_type": "code",
   "execution_count": null,
   "metadata": {},
   "outputs": [],
   "source": [
    "plt.figure()\n",
    "plt.spy(mask)"
   ]
  },
  {
   "cell_type": "code",
   "execution_count": null,
   "metadata": {},
   "outputs": [],
   "source": [
    "a[mask]          # flattens"
   ]
  },
  {
   "cell_type": "markdown",
   "metadata": {},
   "source": [
    "# Sparse Matrices\n",
    "\n",
    "Many matrices (local Hamiltonians, adjacency matrices, etc) are *sparse*. This means that most of the elements are 0. \n"
   ]
  },
  {
   "cell_type": "code",
   "execution_count": null,
   "metadata": {},
   "outputs": [],
   "source": [
    "# Let's define the 2x2 Pauli matrices\n",
    "\n",
    "Id = np.eye(2)\n",
    "Sx = np.array([[0,1.],[1,0]])\n",
    "Sz = np.array([[1,0.],[0,-1]])\n",
    "Sy = -1j * Sz@Sx"
   ]
  },
  {
   "cell_type": "code",
   "execution_count": null,
   "metadata": {},
   "outputs": [],
   "source": [
    "np.kron(Sx,Id)"
   ]
  },
  {
   "cell_type": "code",
   "execution_count": null,
   "metadata": {},
   "outputs": [],
   "source": [
    "plt.figure()\n",
    "# Sx acting on the first spin of a 3 spin space\n",
    "plt.spy(np.kron(np.kron(Sx,Id), Id))"
   ]
  },
  {
   "cell_type": "markdown",
   "metadata": {},
   "source": [
    "# Scipy Sparse Matrices\n",
    "\n",
    "Sparse matrix representations **only store non-zero entries**. \n",
    "Major memory saving, but the cost is that many operations may become less efficient. Exactly how this plays out depends on the specific sparse matrix representation. "
   ]
  },
  {
   "cell_type": "code",
   "execution_count": null,
   "metadata": {},
   "outputs": [],
   "source": [
    "import scipy.sparse as sps"
   ]
  },
  {
   "cell_type": "markdown",
   "metadata": {},
   "source": [
    "Many different sparse matrix formats supported by scipy:\n",
    "\n",
    "1. Compressed sparse row (CSR)\n",
    "  - Stores non-zero entries in each row contiguously\n",
    "  - Fast matrix-vector multiply\n",
    "  - Primary format for most math ops\n",
    "  \n",
    "2. Compressed sparse column (CSC)\n",
    "  - Transpose of CSR\n",
    "  - Fast vector-matrix multiply\n",
    "  \n",
    "3. Diagonal (DIA)\n",
    "  - For matrices with all data on a few diagonals\n",
    "  - Stores full diagonals contiguously\n",
    "\n",
    "4. Coordinate (COO)\n",
    "  - Stores triples (I,J,VALUE)\n",
    "  - Fast to iteratively construct \n",
    "  - Fast to convert to other formats\n",
    "  - Slow operations/access\n",
    "  \n",
    "5. Dictionary of keys (DOK)\n",
    "  - Pure python dictionary with keys (i,j): value\n",
    "  - Fast to construct, access items\n",
    "  \n",
    "6. Linked Lists (LIL)\n",
    "  - Stores by row in pythonic lists\n",
    "  \n",
    "7. Block Sparse Row (BSR)\n",
    "  - Stores non-zero blocks in rows\n",
    "  - Fast matrix-vector multiply\n",
    "\n",
    "Generally, eventually want CSR/BSR for linear algebra. Often simpler to construct in COO or DOK and then convert."
   ]
  },
  {
   "cell_type": "code",
   "execution_count": null,
   "metadata": {},
   "outputs": [],
   "source": [
    "Id = sps.eye(2)\n",
    "Sx = sps.csr_matrix(np.array([[0,1.],[1,0]]))\n",
    "Sz = sps.csr_matrix(np.array([[1,0.],[0,-1]]))\n",
    "Sy = -1j * Sz @ Sx"
   ]
  },
  {
   "cell_type": "code",
   "execution_count": null,
   "metadata": {},
   "outputs": [],
   "source": [
    "Id"
   ]
  },
  {
   "cell_type": "code",
   "execution_count": null,
   "metadata": {},
   "outputs": [],
   "source": [
    "Id.toarray()"
   ]
  },
  {
   "cell_type": "markdown",
   "metadata": {},
   "source": [
    "**Warning** There is another method called todense() which returns the matrix type instead of array type. Don't use it."
   ]
  },
  {
   "cell_type": "code",
   "execution_count": null,
   "metadata": {},
   "outputs": [],
   "source": [
    "Sx"
   ]
  },
  {
   "cell_type": "code",
   "execution_count": null,
   "metadata": {},
   "outputs": [],
   "source": [
    "Sz"
   ]
  },
  {
   "cell_type": "code",
   "execution_count": null,
   "metadata": {},
   "outputs": [],
   "source": [
    "Sy"
   ]
  },
  {
   "cell_type": "code",
   "execution_count": null,
   "metadata": {},
   "outputs": [],
   "source": [
    "Sy.toarray()"
   ]
  },
  {
   "cell_type": "markdown",
   "metadata": {},
   "source": [
    "### Example: Diagonalizing a Spin Chain\n",
    "\n",
    "Let's construct and find the gap of a 3-site transverse field Ising chain with periodic boundary conditions:\n",
    "\n",
    "$$ H = - J \\sum_i \\sigma^z_i \\sigma^z_{i+1} - H \\sum_i \\sigma^x_i $$\n",
    "\n",
    "The operators $\\sigma_i$ are implicitly tensor products with the identity on other sites. \n",
    "\n",
    "How do we deal with this?"
   ]
  },
  {
   "cell_type": "code",
   "execution_count": null,
   "metadata": {},
   "outputs": [],
   "source": [
    "Sx0in2 = sps.kron(Sx,Id)\n",
    "Sx0in2"
   ]
  },
  {
   "cell_type": "code",
   "execution_count": null,
   "metadata": {},
   "outputs": [],
   "source": [
    "Sx0in2.toarray()"
   ]
  },
  {
   "cell_type": "code",
   "execution_count": null,
   "metadata": {},
   "outputs": [],
   "source": [
    "Sx0in3 = sps.kron(sps.kron(Sx,Id),Id)\n",
    "Sx0in3.toarray()"
   ]
  },
  {
   "cell_type": "code",
   "execution_count": null,
   "metadata": {},
   "outputs": [],
   "source": [
    "opList = [Sx,Id,Id]\n",
    "opList"
   ]
  },
  {
   "cell_type": "code",
   "execution_count": null,
   "metadata": {},
   "outputs": [],
   "source": [
    "Sx0 = opList[0]\n",
    "\n",
    "for op in opList[1:]:\n",
    "    Sx0 = sps.kron(Sx0, op)"
   ]
  },
  {
   "cell_type": "code",
   "execution_count": null,
   "metadata": {},
   "outputs": [],
   "source": [
    "Sx0.toarray()"
   ]
  },
  {
   "cell_type": "code",
   "execution_count": null,
   "metadata": {},
   "outputs": [],
   "source": [
    "# Functional technique (for the Lisp experts)\n",
    "from functools import reduce\n",
    "Sx0 = reduce(sps.kron, opList)"
   ]
  },
  {
   "cell_type": "code",
   "execution_count": null,
   "metadata": {},
   "outputs": [],
   "source": [
    "Sx0.toarray()"
   ]
  },
  {
   "cell_type": "code",
   "execution_count": null,
   "metadata": {},
   "outputs": [],
   "source": [
    "HField = reduce(sps.kron, [Sx, Id, Id]) + \\\n",
    "    reduce(sps.kron, [Id, Sx, Id]) + \\\n",
    "    reduce(sps.kron, [Id, Id, Sx])\n",
    "HBond = reduce(sps.kron, [Sz, Sz, Id]) + \\\n",
    "    reduce(sps.kron, [Id, Sz, Sz]) + \\\n",
    "    reduce(sps.kron, [Sz, Id, Sz])"
   ]
  },
  {
   "cell_type": "code",
   "execution_count": null,
   "metadata": {},
   "outputs": [],
   "source": [
    "J = 1.\n",
    "H = 0.5\n",
    "\n",
    "Ham = -J * HBond - H * HField"
   ]
  },
  {
   "cell_type": "code",
   "execution_count": null,
   "metadata": {},
   "outputs": [],
   "source": [
    "plt.figure()\n",
    "plt.spy(Ham)"
   ]
  },
  {
   "cell_type": "markdown",
   "metadata": {},
   "source": [
    "Using full dense diagonalization:"
   ]
  },
  {
   "cell_type": "code",
   "execution_count": null,
   "metadata": {},
   "outputs": [],
   "source": [
    "HamDense = Ham.toarray()"
   ]
  },
  {
   "cell_type": "code",
   "execution_count": null,
   "metadata": {},
   "outputs": [],
   "source": [
    "(e,u) = np.linalg.eigh(HamDense)"
   ]
  },
  {
   "cell_type": "code",
   "execution_count": null,
   "metadata": {},
   "outputs": [],
   "source": [
    "e"
   ]
  },
  {
   "cell_type": "markdown",
   "metadata": {},
   "source": [
    "The unitary which diagonalizes HamDense is return as u. The columns are the eigenvectors."
   ]
  },
  {
   "cell_type": "code",
   "execution_count": null,
   "metadata": {},
   "outputs": [],
   "source": [
    "(HamDense@u[:,1]) / u[:,1]"
   ]
  },
  {
   "cell_type": "code",
   "execution_count": null,
   "metadata": {},
   "outputs": [],
   "source": [
    "plt.figure()\n",
    "plt.plot( np.array([H]*len(e)), e, 'x')\n",
    "plt.xlabel(r'$H$')\n",
    "plt.ylabel(r'$E$')"
   ]
  },
  {
   "cell_type": "markdown",
   "metadata": {},
   "source": [
    "Scipy provide sparse eigensolvers which are wrappers for LAPACK/ARPACK. These implement Lanczos-type diagonalization, good for finding a few of the eigenvalues (not the whole spectrum). Let's find the bottom 4:"
   ]
  },
  {
   "cell_type": "code",
   "execution_count": null,
   "metadata": {},
   "outputs": [],
   "source": [
    "import scipy.sparse.linalg as spslin"
   ]
  },
  {
   "cell_type": "code",
   "execution_count": null,
   "metadata": {},
   "outputs": [],
   "source": [
    "(e2,u) = spslin.eigsh(Ham, k=4, which='SA')"
   ]
  },
  {
   "cell_type": "code",
   "execution_count": null,
   "metadata": {},
   "outputs": [],
   "source": [
    "e2"
   ]
  },
  {
   "cell_type": "code",
   "execution_count": null,
   "metadata": {},
   "outputs": [],
   "source": [
    "e[:4]"
   ]
  },
  {
   "cell_type": "markdown",
   "metadata": {},
   "source": [
    "Now, what's faster?"
   ]
  },
  {
   "cell_type": "code",
   "execution_count": null,
   "metadata": {},
   "outputs": [],
   "source": [
    "%timeit np.linalg.eigh(HamDense)"
   ]
  },
  {
   "cell_type": "code",
   "execution_count": null,
   "metadata": {},
   "outputs": [],
   "source": [
    "%%timeit \n",
    "spslin.eigsh(Ham, k=4, which='SA')"
   ]
  },
  {
   "cell_type": "markdown",
   "metadata": {},
   "source": [
    "Notice that for such small sizes, the sparse solvers (which are iterative) are not as fast as the full diagonalization techniques.\n",
    "\n",
    "Also, if we don't need eigenvectors, we don't want 'em:"
   ]
  },
  {
   "cell_type": "code",
   "execution_count": null,
   "metadata": {},
   "outputs": [],
   "source": [
    "e = np.linalg.eigvalsh(HamDense)"
   ]
  },
  {
   "cell_type": "code",
   "execution_count": null,
   "metadata": {},
   "outputs": [],
   "source": [
    "e"
   ]
  },
  {
   "cell_type": "code",
   "execution_count": null,
   "metadata": {},
   "outputs": [],
   "source": [
    "%timeit np.linalg.eigvalsh(HamDense)"
   ]
  },
  {
   "cell_type": "code",
   "execution_count": null,
   "metadata": {},
   "outputs": [],
   "source": [
    "%timeit spslin.eigsh(Ham, k=4, which='SA', return_eigenvectors=False)"
   ]
  },
  {
   "cell_type": "markdown",
   "metadata": {},
   "source": [
    "## A small phase transition ##\n",
    "\n",
    "Let's make a plot of the spectrum as a function of swept transverse field $H$. \n",
    "Supposedly, there's a quantum phase transition at $H = J (=1)$."
   ]
  },
  {
   "cell_type": "code",
   "execution_count": null,
   "metadata": {},
   "outputs": [],
   "source": [
    "J = 1.\n",
    "Hs = np.r_[0:4:0.1]\n",
    "\n",
    "ens = np.zeros((len(Hs), 8), dtype=float)\n",
    "\n",
    "for (i,H) in enumerate(Hs):\n",
    "    Ham = -J * HBond - H * HField\n",
    "    ens[i] = np.linalg.eigvalsh(Ham.toarray())\n"
   ]
  },
  {
   "cell_type": "code",
   "execution_count": null,
   "metadata": {},
   "outputs": [],
   "source": [
    "plt.figure()\n",
    "plt.plot(Hs, ens, '.-')\n",
    "plt.title(r'Spectrum of 3-Site Transverse Field Ising Chain')\n",
    "plt.grid()\n",
    "plt.xlabel(r'$H$')\n",
    "plt.ylabel(r'$E$')"
   ]
  },
  {
   "cell_type": "markdown",
   "metadata": {},
   "source": [
    "# TASKS #\n",
    "\n",
    "\n",
    "1. Generalize the code to arbitrary N sites and make a similar plot for N=4,6,8,10. Hint: write a function makeSx(i,N) and makeSzSz(i,j,N) which return the needed operators as sparse matrices.\n",
    "\n",
    "2. How much space does a dense matrix for N sites require?\n",
    "\n",
    "3. How much space does the sparse matrix require?\n",
    "\n",
    "4. At what size does the diagonalization become faster by sparse techniques?"
   ]
  },
  {
   "cell_type": "code",
   "execution_count": null,
   "metadata": {},
   "outputs": [],
   "source": []
  }
 ],
 "metadata": {
  "kernelspec": {
   "display_name": ".venv",
   "language": "python",
   "name": "python3"
  },
  "language_info": {
   "codemirror_mode": {
    "name": "ipython",
    "version": 3
   },
   "file_extension": ".py",
   "mimetype": "text/x-python",
   "name": "python",
   "nbconvert_exporter": "python",
   "pygments_lexer": "ipython3",
   "version": "3.13.5"
  }
 },
 "nbformat": 4,
 "nbformat_minor": 4
}
