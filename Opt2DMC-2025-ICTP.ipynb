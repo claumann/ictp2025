{
 "cells": [
  {
   "cell_type": "markdown",
   "metadata": {},
   "source": [
    "# Introduction to Scientific Python 3\n",
    "\n",
    "ICTP Summer School on Quantum Dynamics of Matter, Light and Information\n",
    "\n",
    "Date: August 20, 2025\n",
    "\n",
    "Lecturer: Chris Laumann\n"
   ]
  },
  {
   "cell_type": "markdown",
   "metadata": {},
   "source": [
    "For this lecture we will use the inline backend instead of the notebook backend. The inline backend doesn't support interactive manipulation of plots like the notebook back end does, but sometimes it's simpler -- and it's not hard to switch if you prefer one or the other."
   ]
  },
  {
   "cell_type": "code",
   "execution_count": null,
   "metadata": {},
   "outputs": [],
   "source": [
    "%matplotlib inline\n",
    "import numpy as np\n",
    "import matplotlib.pyplot as plt\n",
    "\n",
    "from numpy import log, sqrt, exp, r_, array"
   ]
  },
  {
   "cell_type": "markdown",
   "metadata": {},
   "source": [
    "# Optimizing in Python #\n",
    "\n",
    "\n",
    "## First rule of optimization: \n",
    "\n",
    "**Your development time is worth a lot more than CPU time.**\n",
    "\n",
    "Make it work **simply and legibly** first. Write simple test cases to make sure your code is correct. If, and only if, it isn't fast enough to get to the sizes you need, then start optimizing.\n",
    "\n",
    "## Second rule of optimization:\n",
    "\n",
    "**Measure twice, cut once.**\n",
    "\n",
    "Use profiling tools to identify the bottlenecks in your code. They may not be where you expect. The two most useful built in tools are **%timeit** and **%prun** (which calls a module called cProfile). \n",
    "\n",
    "## Third rule of optimization:\n",
    "\n",
    "**Algorithms before constants.**\n",
    "\n",
    "Make sure your algorithmic approach is asymptotically efficient before worrying about shaving off constant overheads. Going from $T\\approx 10N$ to $T\\approx5N$ is good, but $T \\approx 5 N^2$ to $T \\approx 10N$ is way better. \n",
    "\n",
    "## Practical Tips for Numerical Code:\n",
    "\n",
    "**Vectorize Loops** Use slicing tricks (if possible) to avoid loops over numpy arrays. \n",
    "\n",
    "**Avoid accidental copies** Better to use views, not copies of big arrays. Change things in place if possible so no new allocation needs to happen. \n",
    "\n",
    "**Contiguous memory is faster** Modern CPUs cache blocks of data so indices being contracted (striding of data) can matter.\n",
    "\n",
    "**Use high level toolkits** Scipy and numpy provide lots of common precompiled algorithms that are mature and optimized. EG. Use scipy.fftpack for fast fourier transforms and look through scipy.signal for signal processing. \n",
    "\n",
    "## Last Resort:\n",
    "\n",
    "**Weave in compiled code** If some bottleneck just has to be faster, consider replacing that one function with compiled C or Cython (compiled Python). Probably try Cython first. Rule of thumb: keep your pure python version around and make sure your compiled and pythonic versions produce the same output on a collection of test cases (unit tests). \n"
   ]
  },
  {
   "cell_type": "markdown",
   "metadata": {},
   "source": [
    "# 2D Ising Model Monte Carlo\n",
    "\n",
    "Let's implement a classical 2D Ising model Monte Carlo in Python.\n",
    "We consider the reduced Hamiltonian ($\\sigma_i = \\pm 1$):\n",
    "\n",
    "$$\\beta H = - J \\sum_{\\langle i j \\rangle} \\sigma_i \\sigma_j - H \\sum_i \\sigma_i$$\n",
    "\n",
    "so that $J>0$ corresponds to ferromagnetism. For reference, on a square lattice, the critical coupling is known exactly (from duality or from Onsager's solution):"
   ]
  },
  {
   "cell_type": "code",
   "execution_count": null,
   "metadata": {},
   "outputs": [],
   "source": [
    "Jcrit = log(1+sqrt(2.))/2"
   ]
  },
  {
   "cell_type": "markdown",
   "metadata": {},
   "source": [
    "Let's define our couplings."
   ]
  },
  {
   "cell_type": "code",
   "execution_count": null,
   "metadata": {},
   "outputs": [],
   "source": [
    "Lx, Ly = 100, 100\n",
    "\n",
    "J = 1. * Jcrit\n",
    "H = 0."
   ]
  },
  {
   "cell_type": "markdown",
   "metadata": {},
   "source": [
    "It's natural to store the configuration in a 2D array. Let's use an integer array and store +-1. "
   ]
  },
  {
   "cell_type": "code",
   "execution_count": null,
   "metadata": {},
   "outputs": [],
   "source": [
    "sigma = np.ones((Lx,Ly), dtype='i4')"
   ]
  },
  {
   "cell_type": "code",
   "execution_count": null,
   "metadata": {},
   "outputs": [],
   "source": [
    "plt.figure()\n",
    "plt.imshow(sigma, vmin = -1, vmax = 1)"
   ]
  },
  {
   "cell_type": "markdown",
   "metadata": {},
   "source": [
    "How to calculate energy?"
   ]
  },
  {
   "cell_type": "code",
   "execution_count": null,
   "metadata": {},
   "outputs": [],
   "source": [
    "def energy(sigma):\n",
    "    en = 0\n",
    "    \n",
    "    # horizontal bonds\n",
    "    for i in range(Lx-1):\n",
    "        for j in range(Ly):\n",
    "            en += -J * sigma[i,j]*sigma[i+1,j]\n",
    "            \n",
    "    # vertical bonds\n",
    "    for i in range(Lx):\n",
    "        for j in range(Ly-1):\n",
    "            en += -J * sigma[i,j]*sigma[i,j+1]\n",
    "    \n",
    "    # field\n",
    "    for i in range(Lx):\n",
    "        for j in range(Ly):\n",
    "            en += -H * sigma[i,j]\n",
    "    \n",
    "    return en"
   ]
  },
  {
   "cell_type": "code",
   "execution_count": null,
   "metadata": {},
   "outputs": [],
   "source": [
    "%timeit energy(sigma)"
   ]
  },
  {
   "cell_type": "markdown",
   "metadata": {},
   "source": [
    "This is a bit long-winded and slow. First, vectorize any for loops you can!"
   ]
  },
  {
   "cell_type": "code",
   "execution_count": null,
   "metadata": {},
   "outputs": [],
   "source": [
    "def energy(sigma):\n",
    "    return (-J * np.sum(sigma[:-1,:] * sigma[1:,:]) \n",
    "         + -J * np.sum(sigma[:,:-1] * sigma[:,1:]) \n",
    "         + -H * np.sum(sigma))\n"
   ]
  },
  {
   "cell_type": "code",
   "execution_count": null,
   "metadata": {},
   "outputs": [],
   "source": [
    "%timeit energy(sigma)"
   ]
  },
  {
   "cell_type": "markdown",
   "metadata": {},
   "source": [
    "Faster and more compact! Let's write an update step."
   ]
  },
  {
   "cell_type": "code",
   "execution_count": null,
   "metadata": {},
   "outputs": [],
   "source": [
    "def mcflip(sigma):\n",
    "    \"\"\"Loop through sites and randomly flip with probability\n",
    "    set by the relative Gibbs weight.\"\"\"\n",
    "    \n",
    "    e0 = energy(sigma)\n",
    "\n",
    "    for i in range(Lx):\n",
    "        for j in range(Ly):\n",
    "            # propose flip\n",
    "            sigma[i,j] *= -1\n",
    "            \n",
    "            e1 = energy(sigma)\n",
    "            \n",
    "            deltaE = e1 - e0\n",
    "            p = exp(- deltaE)/(exp(- deltaE) + exp(deltaE))\n",
    "            \n",
    "            if np.random.rand() < p:\n",
    "                # accept flip and new energy\n",
    "                e0 = e1\n",
    "            else:\n",
    "                # reject flip\n",
    "                sigma[i,j] *= -1\n",
    "                \n",
    "    return\n",
    "    "
   ]
  },
  {
   "cell_type": "code",
   "execution_count": null,
   "metadata": {},
   "outputs": [],
   "source": [
    "mcflip(sigma)"
   ]
  },
  {
   "cell_type": "code",
   "execution_count": null,
   "metadata": {},
   "outputs": [],
   "source": [
    "plt.figure(figsize=(3,3))\n",
    "plt.imshow(sigma, vmin = -1, vmax = 1)"
   ]
  },
  {
   "cell_type": "code",
   "execution_count": null,
   "metadata": {},
   "outputs": [],
   "source": [
    "%timeit mcflip(sigma)"
   ]
  },
  {
   "cell_type": "markdown",
   "metadata": {},
   "source": [
    "Ack! Where is all the time going?"
   ]
  },
  {
   "cell_type": "code",
   "execution_count": null,
   "metadata": {},
   "outputs": [],
   "source": [
    "%%prun\n",
    "mcflip(sigma)"
   ]
  },
  {
   "cell_type": "markdown",
   "metadata": {},
   "source": [
    "Energy takes time O(N) and we call it O(N) times. That's O(N*N). Bad!\n",
    "\n",
    "We only need $\\Delta E$ which is local. Indeed, we only need the coefficient of the $\\sigma$ term we wish to flip in the energy in the fixed background of other spins.\n",
    "Thus, let's calculate the local effective field."
   ]
  },
  {
   "cell_type": "code",
   "execution_count": null,
   "metadata": {},
   "outputs": [],
   "source": [
    "def mcflip(sigma):\n",
    "    \"\"\"Loop through sites and randomly flip with probability\n",
    "    set by the relative Gibbs weight.\"\"\"\n",
    "    \n",
    "    for i in range(Lx):\n",
    "        for j in range(Ly):\n",
    "            # calculate local field \n",
    "            localH = H\n",
    "            \n",
    "            if i < Lx-1:\n",
    "                localH += J*sigma[i+1,j]\n",
    "            if i > 0:\n",
    "                localH += J*sigma[i-1,j]\n",
    "            if j < Ly-1:\n",
    "                localH += J*sigma[i,j+1]\n",
    "            if j > 0:\n",
    "                localH += J*sigma[i,j-1]\n",
    "            \n",
    "            # sample a spin configuration \n",
    "            m = np.tanh(localH)\n",
    "            p = (m+1)/2\n",
    "            \n",
    "            sigma[i,j] = 2*(np.random.rand() < p) - 1\n",
    "                \n",
    "    return\n",
    "    "
   ]
  },
  {
   "cell_type": "code",
   "execution_count": null,
   "metadata": {},
   "outputs": [],
   "source": [
    "%timeit mcflip(sigma)"
   ]
  },
  {
   "cell_type": "markdown",
   "metadata": {},
   "source": [
    "Algorithm first! This is now O(N) instead of O(N^2). Can we vectorize it? There are two tricky bits: \n",
    "1. The special cases on the boundary\n",
    "2. We can only do a parallel update in a fixed background.\n",
    "\n",
    "Answers:\n",
    "1. Set the boundary to zero and only update the bulk\n",
    "2. Vectorize over sublattices"
   ]
  },
  {
   "cell_type": "code",
   "execution_count": null,
   "metadata": {},
   "outputs": [],
   "source": [
    "def setBoundary(sigma, val = 0):\n",
    "    sigma[0,:]  = val\n",
    "    sigma[-1,:] = val\n",
    "    sigma[:,0]  = val\n",
    "    sigma[:,-1] = val\n",
    "    return"
   ]
  },
  {
   "cell_type": "code",
   "execution_count": null,
   "metadata": {},
   "outputs": [],
   "source": [
    "setBoundary(sigma, 0)"
   ]
  },
  {
   "cell_type": "code",
   "execution_count": null,
   "metadata": {},
   "outputs": [],
   "source": [
    "def mcflip_sublat(sigma,a,b):\n",
    "    \"\"\"Update on sublattices defined by and randomly flip with probability\n",
    "    set by the relative Gibbs weight.\"\"\"\n",
    "    \n",
    "    # localH acts on the bulk sublattice which is defined by the slice\n",
    "    # sigma[1+a:-1:2, 1+b:-1:2]\n",
    "    \n",
    "    localH = H + J * (\n",
    "            sigma[2+a:   :2, 1+b: -1:2] + # to the right\n",
    "            sigma[  a: -2:2, 1+b: -1:2] + # to the left\n",
    "            sigma[1+a: -1:2, 2+b:   :2] + # up\n",
    "            sigma[1+a: -1:2,   b: -2:2]   # down\n",
    "            )\n",
    "    \n",
    "    m = np.tanh(localH)\n",
    "    p = (m+1)/2\n",
    "    \n",
    "    sigma[1+a:-1:2, 1+b:-1:2] = 2*(np.random.rand(Lx//2-1,Ly//2-1) < p) - 1\n",
    "                \n",
    "    return\n",
    "\n",
    "def mcflip(sigma):\n",
    "    mcflip_sublat(sigma,0,0)\n",
    "    mcflip_sublat(sigma,1,0)\n",
    "    mcflip_sublat(sigma,0,1)\n",
    "    mcflip_sublat(sigma,1,1)\n",
    "    return"
   ]
  },
  {
   "cell_type": "code",
   "execution_count": null,
   "metadata": {},
   "outputs": [],
   "source": [
    "mcflip(sigma)"
   ]
  },
  {
   "cell_type": "code",
   "execution_count": null,
   "metadata": {},
   "outputs": [],
   "source": [
    "%timeit mcflip(sigma)"
   ]
  },
  {
   "cell_type": "markdown",
   "metadata": {},
   "source": [
    "Okay, that's pretty quick. Let's try animating."
   ]
  },
  {
   "cell_type": "code",
   "execution_count": null,
   "metadata": {},
   "outputs": [],
   "source": [
    "import matplotlib.animation\n",
    "\n",
    "fig, ax = plt.subplots()\n",
    "im = plt.imshow(sigma, vmin = -1, vmax = 1)\n",
    "\n",
    "def animate(i):\n",
    "    \"\"\"Take an mcstep and update image.\"\"\"\n",
    "    mcflip(sigma)\n",
    "    im.set_data(sigma)\n",
    "    return\n",
    "\n",
    "ani = matplotlib.animation.FuncAnimation(fig, animate, frames=100, interval=500/30)\n",
    "plt.show()"
   ]
  },
  {
   "cell_type": "code",
   "execution_count": null,
   "metadata": {},
   "outputs": [],
   "source": [
    "from IPython.display import HTML\n",
    "HTML(ani.to_jshtml())"
   ]
  },
  {
   "cell_type": "markdown",
   "metadata": {},
   "source": [
    "# TASKS #\n",
    "\n",
    "1. Measure the correlation time of the energy at several $J$'s. See code below for help.\n",
    "2. Extract the magnetization, energy, susceptibility, specific heat as a function of coupling $J$ across the transition at $J_c$ and plot it.\n",
    "3. Do this as a function of system size $L$ to see sharpening at the transition.\n",
    "4. Can you modify the code to use fixed rather than free boundary conditions? Periodic boundary conditions?\n",
    "\n",
    "Don't forget that shift-tab can bring up help for anything under your cursor and that searching on the web for help is A-OK."
   ]
  },
  {
   "cell_type": "code",
   "execution_count": null,
   "metadata": {},
   "outputs": [],
   "source": [
    "def magnetization(sigma):\n",
    "    return np.mean(sigma[1:-1,1:-1]) # exclude boundary spins"
   ]
  },
  {
   "cell_type": "code",
   "execution_count": null,
   "metadata": {},
   "outputs": [],
   "source": [
    "def runSample(nSteps = 10000, subSample = 10):\n",
    "    \"\"\"Run nSteps Monte Carlo sweeps on the 2D Ising model.\n",
    "    Does not initialize the sample so can be called sequentially without\n",
    "    reinitialization if desired.\n",
    "    \n",
    "    Returns:\n",
    "        histMag -- array of magnetizations at every subSample timesteps\n",
    "        histEn  -- array of energies at every subSample timesteps\n",
    "    \"\"\"\n",
    "    \n",
    "    # create lists to grow\n",
    "    histMag = []\n",
    "    histEn = []\n",
    "        \n",
    "    for t in range(10000):\n",
    "        mcflip(sigma)\n",
    "        if t%subSample == 0:\n",
    "            histMag.append(magnetization(sigma))\n",
    "            histEn.append(energy(sigma))\n",
    "    \n",
    "    # return as arrays\n",
    "    return (array(histMag), array(histEn))"
   ]
  },
  {
   "cell_type": "markdown",
   "metadata": {},
   "source": [
    "Computing autocorrelations."
   ]
  },
  {
   "cell_type": "code",
   "execution_count": null,
   "metadata": {},
   "outputs": [],
   "source": [
    "J = 0.9*Jcrit\n",
    "histMag, histEn = runSample(subSample=1)"
   ]
  },
  {
   "cell_type": "code",
   "execution_count": null,
   "metadata": {},
   "outputs": [],
   "source": [
    "plt.plot(histMag)"
   ]
  },
  {
   "cell_type": "code",
   "execution_count": null,
   "metadata": {},
   "outputs": [],
   "source": [
    "c = np.correlate(histMag-np.mean(histMag),histMag-np.mean(histMag), 'same')\n",
    "# get positive time part only (b/c autocorrelation is t -> -t symmetric)\n",
    "c = c[len(c)//2:]\n",
    "plt.plot(c)\n",
    "plt.xlabel(r'MC Time $t$')\n",
    "plt.ylabel(r'Magnetization Autocorrelation $\\langle m(t) m(0) \\rangle$')"
   ]
  },
  {
   "cell_type": "code",
   "execution_count": null,
   "metadata": {},
   "outputs": [],
   "source": [
    "fitToTime = 100\n",
    "fitTs = np.r_[:fitToTime]\n",
    "\n",
    "pf = np.polyfit(fitTs,log(c[:fitToTime]),1)\n",
    "tau = -1/pf[0]\n",
    "\n",
    "plt.semilogy(np.abs(c))\n",
    "plt.semilogy(fitTs, exp(np.polyval(pf,fitTs)), '--', \n",
    "         label=r'$\\ln \\langle M(t)M(0)\\rangle = - t / %1.1f$'%(tau))\n",
    "plt.legend()\n",
    "\n",
    "plt.xlim(0,500)"
   ]
  },
  {
   "cell_type": "markdown",
   "metadata": {},
   "source": [
    "Collecting data across sweep in coupling $J$."
   ]
  },
  {
   "cell_type": "code",
   "execution_count": null,
   "metadata": {},
   "outputs": [],
   "source": [
    "Js = r_[0.5:1.5:21j] * Jcrit\n",
    "\n",
    "mags    = np.zeros_like(Js)\n",
    "magvars = np.zeros_like(Js)\n",
    "ens     = np.zeros_like(Js)\n",
    "envars  = np.zeros_like(Js)\n",
    "\n",
    "for (i,J) in enumerate(Js):\n",
    "    print(\"J: \", J)\n",
    "    \n",
    "    # reinitialize spin configuration\n",
    "    sigma = np.ones_like(sigma)\n",
    "    setBoundary(sigma, 0) # free boundary conditions\n",
    "\n",
    "    (histMag, histEn) = runSample(nSteps=10000, subSample = 10)\n",
    "    \n",
    "    mags[i]    = np.mean(histMag)\n",
    "    magvars[i] = np.var(histMag)\n",
    "    ens[i]     = np.mean(histEn)\n",
    "    envars[i]  = np.var(histEn)\n"
   ]
  },
  {
   "cell_type": "code",
   "execution_count": null,
   "metadata": {},
   "outputs": [],
   "source": [
    "plt.figure()\n",
    "plt.plot(Js,abs(mags))\n",
    "plt.vlines([Jcrit], 0,1, linestyle='dashed')\n",
    "plt.ylabel(r'$\\langle m \\rangle$')\n",
    "plt.xlabel(r'$J$')"
   ]
  },
  {
   "cell_type": "code",
   "execution_count": null,
   "metadata": {},
   "outputs": [],
   "source": []
  },
  {
   "cell_type": "code",
   "execution_count": null,
   "metadata": {},
   "outputs": [],
   "source": []
  }
 ],
 "metadata": {
  "kernelspec": {
   "display_name": ".venv",
   "language": "python",
   "name": "python3"
  },
  "language_info": {
   "codemirror_mode": {
    "name": "ipython",
    "version": 3
   },
   "file_extension": ".py",
   "mimetype": "text/x-python",
   "name": "python",
   "nbconvert_exporter": "python",
   "pygments_lexer": "ipython3",
   "version": "3.13.5"
  }
 },
 "nbformat": 4,
 "nbformat_minor": 4
}
